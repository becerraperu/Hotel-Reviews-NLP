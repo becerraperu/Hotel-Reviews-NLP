{
 "cells": [
  {
   "cell_type": "markdown",
   "metadata": {},
   "source": [
    "# PERSONAL CAPSTONE\n",
    "\n",
    "Dataset:[Hotel Reviews](https://data.world/datafiniti/hotel-reviews)\n",
    "\n",
    "What can be done with this data.\n",
    "\n",
    "* What are the bottom and top states for hotel reviews by average rating?\n",
    "* What is the correlation between a state’s population and their number of hotel reviews?\n",
    "* What is the correlation between a state’s tourism budget and their number of hotel reviews?\n",
    "* Fit a regression model on reviews and score to see which words are more indicative to a higher/lower score\n",
    "* Perform a sentiment analysis on the reviews\n",
    "* Find correlation between reviewer's nationality and scores.\n",
    "* Beautiful and informative visualization on the dataset.\n",
    "* Clustering hotels based on reviews\n",
    "* Simple recommendation engine to the guest who is fond of a special characteristic of hotel.\n"
   ]
  },
  {
   "cell_type": "markdown",
   "metadata": {},
   "source": [
    "## Importing Libraries"
   ]
  },
  {
   "cell_type": "code",
   "execution_count": 2,
   "metadata": {},
   "outputs": [],
   "source": [
    "import pandas as pd\n",
    "import numpy as np\n",
    "import scipy\n",
    "import matplotlib.pyplot as plt\n",
    "%matplotlib inline\n",
    "\n",
    "from sklearn import ensemble\n",
    "from sklearn import datasets\n",
    "from sklearn.utils import shuffle\n",
    "from sklearn.metrics import mean_squared_error\n",
    "\n",
    "from IPython.display import Image\n",
    "from IPython.display import display\n",
    "import seaborn as sns\n",
    "\n",
    "import time\n",
    "\n",
    "from sklearn.metrics import classification_report,confusion_matrix\n",
    "from sklearn.model_selection import cross_val_score\n",
    "from sklearn.model_selection import cross_val_predict\n",
    "\n",
    "from sklearn.feature_selection import f_classif, f_regression, SelectKBest\n",
    "\n",
    "\n",
    "import warnings\n",
    "# Suppress annoying harmless error.\n",
    "warnings.simplefilter('ignore')\n",
    "\n",
    "import matplotlib.pyplot as plt\n",
    "%matplotlib inline\n",
    "import seaborn as sns\n",
    "sns.set_style(\"white\")\n",
    "\n",
    "#import plotly.plotly as py\n",
    "#import plotly.tools as tls"
   ]
  },
  {
   "cell_type": "markdown",
   "metadata": {},
   "source": [
    "## Import Data"
   ]
  },
  {
   "cell_type": "code",
   "execution_count": 3,
   "metadata": {},
   "outputs": [
    {
     "name": "stdout",
     "output_type": "stream",
     "text": [
      "The shape of the data is: (10000, 26)\n"
     ]
    }
   ],
   "source": [
    "df  = pd.read_csv('datafiniti_hotel_reviews.csv')\n",
    "print('The shape of the data is:', df.shape)"
   ]
  },
  {
   "cell_type": "code",
   "execution_count": 4,
   "metadata": {},
   "outputs": [
    {
     "data": {
      "text/html": [
       "<div>\n",
       "<style scoped>\n",
       "    .dataframe tbody tr th:only-of-type {\n",
       "        vertical-align: middle;\n",
       "    }\n",
       "\n",
       "    .dataframe tbody tr th {\n",
       "        vertical-align: top;\n",
       "    }\n",
       "\n",
       "    .dataframe thead th {\n",
       "        text-align: right;\n",
       "    }\n",
       "</style>\n",
       "<table border=\"1\" class=\"dataframe\">\n",
       "  <thead>\n",
       "    <tr style=\"text-align: right;\">\n",
       "      <th></th>\n",
       "      <th>id</th>\n",
       "      <th>dateadded</th>\n",
       "      <th>dateupdated</th>\n",
       "      <th>address</th>\n",
       "      <th>categories</th>\n",
       "      <th>primarycategories</th>\n",
       "      <th>city</th>\n",
       "      <th>country</th>\n",
       "      <th>keys</th>\n",
       "      <th>latitude</th>\n",
       "      <th>...</th>\n",
       "      <th>reviews_rating</th>\n",
       "      <th>reviews_sourceurls</th>\n",
       "      <th>reviews_text</th>\n",
       "      <th>reviews_title</th>\n",
       "      <th>reviews_usercity</th>\n",
       "      <th>reviews_userprovince</th>\n",
       "      <th>reviews_username</th>\n",
       "      <th>sourceurls</th>\n",
       "      <th>websites</th>\n",
       "      <th>location</th>\n",
       "    </tr>\n",
       "  </thead>\n",
       "  <tbody>\n",
       "    <tr>\n",
       "      <th>0</th>\n",
       "      <td>AVwc252WIN2L1WUfpqLP</td>\n",
       "      <td>2016-10-30T21:42:42Z</td>\n",
       "      <td>2018-09-10T21:06:27Z</td>\n",
       "      <td>5921 Valencia Cir</td>\n",
       "      <td>Hotels,Hotels and motels,Hotel and motel reser...</td>\n",
       "      <td>Accommodation &amp; Food Services</td>\n",
       "      <td>Rancho Santa Fe</td>\n",
       "      <td>US</td>\n",
       "      <td>us/ca/ranchosantafe/5921valenciacir/359754519</td>\n",
       "      <td>32.990959</td>\n",
       "      <td>...</td>\n",
       "      <td>5.0</td>\n",
       "      <td>https://www.hotels.com/hotel/125419/reviews%20/</td>\n",
       "      <td>Our experience at Rancho Valencia was absolute...</td>\n",
       "      <td>Best romantic vacation ever!!!!</td>\n",
       "      <td>NaN</td>\n",
       "      <td>NaN</td>\n",
       "      <td>Paula</td>\n",
       "      <td>http://www.hotels.com/ho125419/%25252525253Flo...</td>\n",
       "      <td>http://www.ranchovalencia.com</td>\n",
       "      <td>POINT(-117.186136 32.990959)</td>\n",
       "    </tr>\n",
       "  </tbody>\n",
       "</table>\n",
       "<p>1 rows × 26 columns</p>\n",
       "</div>"
      ],
      "text/plain": [
       "                     id             dateadded           dateupdated  \\\n",
       "0  AVwc252WIN2L1WUfpqLP  2016-10-30T21:42:42Z  2018-09-10T21:06:27Z   \n",
       "\n",
       "             address                                         categories  \\\n",
       "0  5921 Valencia Cir  Hotels,Hotels and motels,Hotel and motel reser...   \n",
       "\n",
       "               primarycategories             city country  \\\n",
       "0  Accommodation & Food Services  Rancho Santa Fe      US   \n",
       "\n",
       "                                            keys   latitude  \\\n",
       "0  us/ca/ranchosantafe/5921valenciacir/359754519  32.990959   \n",
       "\n",
       "               ...               reviews_rating  \\\n",
       "0              ...                          5.0   \n",
       "\n",
       "                                reviews_sourceurls  \\\n",
       "0  https://www.hotels.com/hotel/125419/reviews%20/   \n",
       "\n",
       "                                        reviews_text  \\\n",
       "0  Our experience at Rancho Valencia was absolute...   \n",
       "\n",
       "                     reviews_title reviews_usercity reviews_userprovince  \\\n",
       "0  Best romantic vacation ever!!!!              NaN                  NaN   \n",
       "\n",
       "   reviews_username                                         sourceurls  \\\n",
       "0             Paula  http://www.hotels.com/ho125419/%25252525253Flo...   \n",
       "\n",
       "                        websites                      location  \n",
       "0  http://www.ranchovalencia.com  POINT(-117.186136 32.990959)  \n",
       "\n",
       "[1 rows x 26 columns]"
      ]
     },
     "metadata": {},
     "output_type": "display_data"
    }
   ],
   "source": [
    "display(df.head(1))"
   ]
  },
  {
   "cell_type": "code",
   "execution_count": 5,
   "metadata": {},
   "outputs": [
    {
     "data": {
      "text/plain": [
       "Index(['id', 'dateadded', 'dateupdated', 'address', 'categories',\n",
       "       'primarycategories', 'city', 'country', 'keys', 'latitude', 'longitude',\n",
       "       'name', 'postalcode', 'province', 'reviews_date', 'reviews_dateseen',\n",
       "       'reviews_rating', 'reviews_sourceurls', 'reviews_text', 'reviews_title',\n",
       "       'reviews_usercity', 'reviews_userprovince', 'reviews_username',\n",
       "       'sourceurls', 'websites', 'location'],\n",
       "      dtype='object')"
      ]
     },
     "execution_count": 5,
     "metadata": {},
     "output_type": "execute_result"
    }
   ],
   "source": [
    "df.columns"
   ]
  },
  {
   "cell_type": "code",
   "execution_count": 6,
   "metadata": {},
   "outputs": [
    {
     "data": {
      "text/plain": [
       "id                       object\n",
       "dateadded                object\n",
       "dateupdated              object\n",
       "address                  object\n",
       "categories               object\n",
       "primarycategories        object\n",
       "city                     object\n",
       "country                  object\n",
       "keys                     object\n",
       "latitude                float64\n",
       "longitude               float64\n",
       "name                     object\n",
       "postalcode               object\n",
       "province                 object\n",
       "reviews_date             object\n",
       "reviews_dateseen         object\n",
       "reviews_rating          float64\n",
       "reviews_sourceurls       object\n",
       "reviews_text             object\n",
       "reviews_title            object\n",
       "reviews_usercity         object\n",
       "reviews_userprovince     object\n",
       "reviews_username         object\n",
       "sourceurls               object\n",
       "websites                 object\n",
       "location                 object\n",
       "dtype: object"
      ]
     },
     "execution_count": 6,
     "metadata": {},
     "output_type": "execute_result"
    }
   ],
   "source": [
    "df.dtypes"
   ]
  },
  {
   "cell_type": "code",
   "execution_count": 7,
   "metadata": {},
   "outputs": [
    {
     "data": {
      "text/plain": [
       "reviews_text               1\n",
       "reviews_title              1\n",
       "reviews_usercity        5836\n",
       "reviews_userprovince    7295\n",
       "dtype: int64"
      ]
     },
     "execution_count": 7,
     "metadata": {},
     "output_type": "execute_result"
    }
   ],
   "source": [
    "# Count nulls \n",
    "null_count = df.isnull().sum()\n",
    "null_count[null_count>0]"
   ]
  },
  {
   "cell_type": "markdown",
   "metadata": {},
   "source": [
    "## Data Cleaning"
   ]
  },
  {
   "cell_type": "markdown",
   "metadata": {},
   "source": [
    "Here I am going to begin the data cleaning. I will beging with the obvious number of null values that are only in the reviews_usercity and reviews_userprovince columns. "
   ]
  },
  {
   "cell_type": "code",
   "execution_count": 9,
   "metadata": {},
   "outputs": [],
   "source": [
    "# Here I am coping the original dataset into df0 so that I leave the original data alone. \n",
    "df0 = df"
   ]
  },
  {
   "cell_type": "code",
   "execution_count": 11,
   "metadata": {},
   "outputs": [],
   "source": [
    "## Assumptions: We are just going to Assume that people who didn't fill out the city and State Value \n",
    "#Lived in the Same State and City \n",
    "## For the empty values in reviews_userprovince replace with the value of the hotel's province \n",
    "## For the empty values in reviews_usercity replace with the value of hotel's city\n",
    "df0['reviews_userprovince'].fillna(value = df0['province'], inplace=True)\n",
    "df0['reviews_usercity'].fillna(value = df0['city'], inplace=True)"
   ]
  },
  {
   "cell_type": "code",
   "execution_count": 15,
   "metadata": {},
   "outputs": [
    {
     "data": {
      "text/html": [
       "<div>\n",
       "<style scoped>\n",
       "    .dataframe tbody tr th:only-of-type {\n",
       "        vertical-align: middle;\n",
       "    }\n",
       "\n",
       "    .dataframe tbody tr th {\n",
       "        vertical-align: top;\n",
       "    }\n",
       "\n",
       "    .dataframe thead th {\n",
       "        text-align: right;\n",
       "    }\n",
       "</style>\n",
       "<table border=\"1\" class=\"dataframe\">\n",
       "  <thead>\n",
       "    <tr style=\"text-align: right;\">\n",
       "      <th></th>\n",
       "      <th>id</th>\n",
       "      <th>keys</th>\n",
       "      <th>reviews_sourceurls</th>\n",
       "      <th>sourceurls</th>\n",
       "      <th>websites</th>\n",
       "      <th>location</th>\n",
       "    </tr>\n",
       "  </thead>\n",
       "  <tbody>\n",
       "    <tr>\n",
       "      <th>0</th>\n",
       "      <td>AVwc252WIN2L1WUfpqLP</td>\n",
       "      <td>us/ca/ranchosantafe/5921valenciacir/359754519</td>\n",
       "      <td>https://www.hotels.com/hotel/125419/reviews%20/</td>\n",
       "      <td>http://www.hotels.com/ho125419/%25252525253Flo...</td>\n",
       "      <td>http://www.ranchovalencia.com</td>\n",
       "      <td>POINT(-117.186136 32.990959)</td>\n",
       "    </tr>\n",
       "    <tr>\n",
       "      <th>1</th>\n",
       "      <td>AVwc252WIN2L1WUfpqLP</td>\n",
       "      <td>us/ca/ranchosantafe/5921valenciacir/359754519</td>\n",
       "      <td>https://www.hotels.com/hotel/125419/reviews%20/</td>\n",
       "      <td>http://www.hotels.com/ho125419/%25252525253Flo...</td>\n",
       "      <td>http://www.ranchovalencia.com</td>\n",
       "      <td>POINT(-117.186136 32.990959)</td>\n",
       "    </tr>\n",
       "    <tr>\n",
       "      <th>2</th>\n",
       "      <td>AVwc252WIN2L1WUfpqLP</td>\n",
       "      <td>us/ca/ranchosantafe/5921valenciacir/359754519</td>\n",
       "      <td>https://www.hotels.com/hotel/125419/reviews%20/</td>\n",
       "      <td>http://www.hotels.com/ho125419/%25252525253Flo...</td>\n",
       "      <td>http://www.ranchovalencia.com</td>\n",
       "      <td>POINT(-117.186136 32.990959)</td>\n",
       "    </tr>\n",
       "    <tr>\n",
       "      <th>3</th>\n",
       "      <td>AVwdOclqIN2L1WUfti38</td>\n",
       "      <td>us/md/hanover/7520teaguerd/-2043779672</td>\n",
       "      <td>https://www.tripadvisor.com/Hotel_Review-g4118...</td>\n",
       "      <td>http://www.yellowbook.com/profile/aloft-arunde...</td>\n",
       "      <td>http://www.starwoodhotels.com/alofthotels/prop...</td>\n",
       "      <td>POINT(-76.716341 39.155929)</td>\n",
       "    </tr>\n",
       "    <tr>\n",
       "      <th>4</th>\n",
       "      <td>AVwdOclqIN2L1WUfti38</td>\n",
       "      <td>us/md/hanover/7520teaguerd/-2043779672</td>\n",
       "      <td>https://www.tripadvisor.com/Hotel_Review-g4118...</td>\n",
       "      <td>http://www.yellowbook.com/profile/aloft-arunde...</td>\n",
       "      <td>http://www.starwoodhotels.com/alofthotels/prop...</td>\n",
       "      <td>POINT(-76.716341 39.155929)</td>\n",
       "    </tr>\n",
       "  </tbody>\n",
       "</table>\n",
       "</div>"
      ],
      "text/plain": [
       "                     id                                           keys  \\\n",
       "0  AVwc252WIN2L1WUfpqLP  us/ca/ranchosantafe/5921valenciacir/359754519   \n",
       "1  AVwc252WIN2L1WUfpqLP  us/ca/ranchosantafe/5921valenciacir/359754519   \n",
       "2  AVwc252WIN2L1WUfpqLP  us/ca/ranchosantafe/5921valenciacir/359754519   \n",
       "3  AVwdOclqIN2L1WUfti38         us/md/hanover/7520teaguerd/-2043779672   \n",
       "4  AVwdOclqIN2L1WUfti38         us/md/hanover/7520teaguerd/-2043779672   \n",
       "\n",
       "                                  reviews_sourceurls  \\\n",
       "0    https://www.hotels.com/hotel/125419/reviews%20/   \n",
       "1    https://www.hotels.com/hotel/125419/reviews%20/   \n",
       "2    https://www.hotels.com/hotel/125419/reviews%20/   \n",
       "3  https://www.tripadvisor.com/Hotel_Review-g4118...   \n",
       "4  https://www.tripadvisor.com/Hotel_Review-g4118...   \n",
       "\n",
       "                                          sourceurls  \\\n",
       "0  http://www.hotels.com/ho125419/%25252525253Flo...   \n",
       "1  http://www.hotels.com/ho125419/%25252525253Flo...   \n",
       "2  http://www.hotels.com/ho125419/%25252525253Flo...   \n",
       "3  http://www.yellowbook.com/profile/aloft-arunde...   \n",
       "4  http://www.yellowbook.com/profile/aloft-arunde...   \n",
       "\n",
       "                                            websites  \\\n",
       "0                      http://www.ranchovalencia.com   \n",
       "1                      http://www.ranchovalencia.com   \n",
       "2                      http://www.ranchovalencia.com   \n",
       "3  http://www.starwoodhotels.com/alofthotels/prop...   \n",
       "4  http://www.starwoodhotels.com/alofthotels/prop...   \n",
       "\n",
       "                       location  \n",
       "0  POINT(-117.186136 32.990959)  \n",
       "1  POINT(-117.186136 32.990959)  \n",
       "2  POINT(-117.186136 32.990959)  \n",
       "3   POINT(-76.716341 39.155929)  \n",
       "4   POINT(-76.716341 39.155929)  "
      ]
     },
     "execution_count": 15,
     "metadata": {},
     "output_type": "execute_result"
    }
   ],
   "source": [
    "# These are the columns that will not be helpful during the analysis\n",
    "df0.loc[0:4, ['id','keys','reviews_sourceurls','sourceurls','websites','location']]"
   ]
  },
  {
   "cell_type": "code",
   "execution_count": 16,
   "metadata": {},
   "outputs": [],
   "source": [
    "df0 = df0.drop(['id','keys','reviews_sourceurls','sourceurls','websites','location'],1)"
   ]
  },
  {
   "cell_type": "code",
   "execution_count": 18,
   "metadata": {},
   "outputs": [
    {
     "data": {
      "text/html": [
       "<div>\n",
       "<style scoped>\n",
       "    .dataframe tbody tr th:only-of-type {\n",
       "        vertical-align: middle;\n",
       "    }\n",
       "\n",
       "    .dataframe tbody tr th {\n",
       "        vertical-align: top;\n",
       "    }\n",
       "\n",
       "    .dataframe thead th {\n",
       "        text-align: right;\n",
       "    }\n",
       "</style>\n",
       "<table border=\"1\" class=\"dataframe\">\n",
       "  <thead>\n",
       "    <tr style=\"text-align: right;\">\n",
       "      <th></th>\n",
       "      <th>dateadded</th>\n",
       "      <th>dateupdated</th>\n",
       "      <th>address</th>\n",
       "      <th>categories</th>\n",
       "      <th>primarycategories</th>\n",
       "      <th>city</th>\n",
       "      <th>country</th>\n",
       "      <th>latitude</th>\n",
       "      <th>longitude</th>\n",
       "      <th>name</th>\n",
       "      <th>postalcode</th>\n",
       "      <th>province</th>\n",
       "      <th>reviews_date</th>\n",
       "      <th>reviews_dateseen</th>\n",
       "      <th>reviews_rating</th>\n",
       "      <th>reviews_text</th>\n",
       "      <th>reviews_title</th>\n",
       "      <th>reviews_usercity</th>\n",
       "      <th>reviews_userprovince</th>\n",
       "      <th>reviews_username</th>\n",
       "    </tr>\n",
       "  </thead>\n",
       "  <tbody>\n",
       "    <tr>\n",
       "      <th>0</th>\n",
       "      <td>2016-10-30T21:42:42Z</td>\n",
       "      <td>2018-09-10T21:06:27Z</td>\n",
       "      <td>5921 Valencia Cir</td>\n",
       "      <td>Hotels,Hotels and motels,Hotel and motel reser...</td>\n",
       "      <td>Accommodation &amp; Food Services</td>\n",
       "      <td>Rancho Santa Fe</td>\n",
       "      <td>US</td>\n",
       "      <td>32.990959</td>\n",
       "      <td>-117.186136</td>\n",
       "      <td>Rancho Valencia Resort Spa</td>\n",
       "      <td>92067</td>\n",
       "      <td>CA</td>\n",
       "      <td>2013-11-14T00:00:00Z</td>\n",
       "      <td>2016-08-03T00:00:00Z,2016-07-26T00:00:00Z,2016...</td>\n",
       "      <td>5.0</td>\n",
       "      <td>Our experience at Rancho Valencia was absolute...</td>\n",
       "      <td>Best romantic vacation ever!!!!</td>\n",
       "      <td>Rancho Santa Fe</td>\n",
       "      <td>CA</td>\n",
       "      <td>Paula</td>\n",
       "    </tr>\n",
       "  </tbody>\n",
       "</table>\n",
       "</div>"
      ],
      "text/plain": [
       "              dateadded           dateupdated            address  \\\n",
       "0  2016-10-30T21:42:42Z  2018-09-10T21:06:27Z  5921 Valencia Cir   \n",
       "\n",
       "                                          categories  \\\n",
       "0  Hotels,Hotels and motels,Hotel and motel reser...   \n",
       "\n",
       "               primarycategories             city country   latitude  \\\n",
       "0  Accommodation & Food Services  Rancho Santa Fe      US  32.990959   \n",
       "\n",
       "    longitude                        name postalcode province  \\\n",
       "0 -117.186136  Rancho Valencia Resort Spa      92067       CA   \n",
       "\n",
       "           reviews_date                                   reviews_dateseen  \\\n",
       "0  2013-11-14T00:00:00Z  2016-08-03T00:00:00Z,2016-07-26T00:00:00Z,2016...   \n",
       "\n",
       "   reviews_rating                                       reviews_text  \\\n",
       "0             5.0  Our experience at Rancho Valencia was absolute...   \n",
       "\n",
       "                     reviews_title reviews_usercity reviews_userprovince  \\\n",
       "0  Best romantic vacation ever!!!!  Rancho Santa Fe                   CA   \n",
       "\n",
       "  reviews_username  \n",
       "0            Paula  "
      ]
     },
     "execution_count": 18,
     "metadata": {},
     "output_type": "execute_result"
    }
   ],
   "source": [
    "df0.head(1)"
   ]
  },
  {
   "cell_type": "code",
   "execution_count": 19,
   "metadata": {},
   "outputs": [],
   "source": [
    "## convert dates to date time object\n",
    "df0['dateadded']=df0['dateadded'].str[:10]\n",
    "df0['dateadded'] = pd.to_datetime(df0['dateadded'])\n",
    "\n",
    "df0['dateupdated']=df0['dateupdated'].str[:10]\n",
    "df0['dateupdated'] = pd.to_datetime(df0['dateupdated'])\n",
    "\n",
    "df0['reviews_date']=df0['reviews_date'].str[:10]\n",
    "df0['reviews_date'] = pd.to_datetime(df0['reviews_date'])\n",
    "\n",
    "df0['reviews_dateseen']=df0['reviews_dateseen'].str[:10]\n",
    "df0['reviews_dateseen'] = pd.to_datetime(df0['reviews_dateseen'])"
   ]
  },
  {
   "cell_type": "code",
   "execution_count": 20,
   "metadata": {},
   "outputs": [
    {
     "data": {
      "text/plain": [
       "dateadded               datetime64[ns]\n",
       "dateupdated             datetime64[ns]\n",
       "address                         object\n",
       "categories                      object\n",
       "primarycategories               object\n",
       "city                            object\n",
       "country                         object\n",
       "latitude                       float64\n",
       "longitude                      float64\n",
       "name                            object\n",
       "postalcode                      object\n",
       "province                        object\n",
       "reviews_date            datetime64[ns]\n",
       "reviews_dateseen        datetime64[ns]\n",
       "reviews_rating                 float64\n",
       "reviews_text                    object\n",
       "reviews_title                   object\n",
       "reviews_usercity                object\n",
       "reviews_userprovince            object\n",
       "reviews_username                object\n",
       "dtype: object"
      ]
     },
     "execution_count": 20,
     "metadata": {},
     "output_type": "execute_result"
    }
   ],
   "source": [
    "df0.dtypes"
   ]
  },
  {
   "cell_type": "code",
   "execution_count": 21,
   "metadata": {},
   "outputs": [
    {
     "data": {
      "text/plain": [
       "Hotels,Hotel                                  1905\n",
       "Hotel,Hotels                                   403\n",
       "Hotel,Hotels Motels                            233\n",
       "Hotels,Hotels and motels,Hotel                 148\n",
       "Hotels,Lodging,Motels,Hotel                    141\n",
       "Hotels,Casinos,Resorts,Resort,Casino,Hotel     139\n",
       "Hotels,Boutique Hotels,Hotel                   128\n",
       "Hotels,Lodging,Hotel                           108\n",
       "Hotels,Resort,Spa,Hotel,Hotel Pool              99\n",
       "Hotels,Corporate Lodging,Lodging,Hotel          98\n",
       "Name: categories, dtype: int64"
      ]
     },
     "execution_count": 21,
     "metadata": {},
     "output_type": "execute_result"
    }
   ],
   "source": [
    "# I can see that many of these category names appear to be duplicates and need to be cleaned. \n",
    "df0.categories.value_counts().head(10)"
   ]
  },
  {
   "cell_type": "code",
   "execution_count": null,
   "metadata": {},
   "outputs": [],
   "source": [
    "# This is a function to remove the unnecessary endings from words. \n",
    "def endchop(thestring, ending):\n",
    "    if thestring.endswith(ending):\n",
    "        return thestring[:-len(ending)]\n",
    "    return thestring"
   ]
  },
  {
   "cell_type": "code",
   "execution_count": null,
   "metadata": {},
   "outputs": [],
   "source": [
    "# Empty dataset to put the cleaned up data\n",
    "clean_data = pd.DataFrame(index=range(0,10000), columns=['categories'])"
   ]
  },
  {
   "cell_type": "code",
   "execution_count": null,
   "metadata": {},
   "outputs": [],
   "source": [
    "for i in range(len(df)):\n",
    "    \n",
    "    single_list = []\n",
    "    # I split each row into only words after making them lower case and removing spaces\n",
    "    for each in df.categories[i].lower().replace(' ',',').split(','):\n",
    "        # Ignoring 'and'\n",
    "        if each == 'and':\n",
    "            continue\n",
    "        # Ignoring '&'\n",
    "        elif each == '&':\n",
    "            continue\n",
    "        # With the remaining words, remove the extra 's' on the end\n",
    "        else:\n",
    "            # Append these single words to a list\n",
    "            single_list.append(endchop(each, 's'))\n",
    "    \n",
    "    #Then take the single words and reduce it to the unique words with set() then make it a list so that the words\n",
    "    # can be joined back into a string. \n",
    "    clean_data.categories[i] = ', '.join(list(set(single_list)))"
   ]
  },
  {
   "cell_type": "code",
   "execution_count": null,
   "metadata": {},
   "outputs": [],
   "source": [
    "clean_data.categories.value_counts().head(10)"
   ]
  },
  {
   "cell_type": "code",
   "execution_count": null,
   "metadata": {},
   "outputs": [],
   "source": []
  },
  {
   "cell_type": "code",
   "execution_count": null,
   "metadata": {},
   "outputs": [],
   "source": []
  },
  {
   "cell_type": "markdown",
   "metadata": {},
   "source": [
    "## Exploring the Data"
   ]
  },
  {
   "cell_type": "code",
   "execution_count": 11,
   "metadata": {},
   "outputs": [
    {
     "data": {
      "image/png": "[encoded data removed]",
      "text/plain": [
       "<matplotlib.figure.Figure at 0x114514b70>"
      ]
     },
     "metadata": {},
     "output_type": "display_data"
    }
   ],
   "source": [
    "# List of Categories \n",
    "plt.figure(figsize=(10, 5))\n",
    "df.categories.value_counts().head(10).plot(kind='bar')\n",
    "plt.title('Hotel Counts per Categories')\n",
    "plt.show()"
   ]
  },
  {
   "cell_type": "code",
   "execution_count": 12,
   "metadata": {},
   "outputs": [
    {
     "data": {
      "image/png": "[encoded data removed]",
      "text/plain": [
       "<matplotlib.figure.Figure at 0x114e7a978>"
      ]
     },
     "metadata": {},
     "output_type": "display_data"
    }
   ],
   "source": [
    "plt.figure(figsize=(10, 5))\n",
    "df.reviews_userprovince.value_counts().head(20).plot(kind='bar')\n",
    "plt.title('Hotel reviews_userprovince Counts')\n",
    "plt.show()"
   ]
  },
  {
   "cell_type": "code",
   "execution_count": 13,
   "metadata": {},
   "outputs": [
    {
     "data": {
      "image/png": "[encoded data removed]",
      "text/plain": [
       "<matplotlib.figure.Figure at 0x115805be0>"
      ]
     },
     "metadata": {},
     "output_type": "display_data"
    }
   ],
   "source": [
    "plt.figure(figsize=(10, 5))\n",
    "df.reviews_usercity.value_counts().head(20).plot(kind='bar')\n",
    "plt.title('Hotel reviews_usercity Counts')\n",
    "plt.show()"
   ]
  },
  {
   "cell_type": "code",
   "execution_count": 14,
   "metadata": {},
   "outputs": [
    {
     "data": {
      "image/png": "[encoded data removed]",
      "text/plain": [
       "<matplotlib.figure.Figure at 0x114ffcd68>"
      ]
     },
     "metadata": {},
     "output_type": "display_data"
    }
   ],
   "source": [
    "# List of Categories \n",
    "plt.figure(figsize=(10, 5))\n",
    "df.reviews_rating.value_counts().plot(kind='bar')\n",
    "plt.title('Hotel reviews_rating')\n",
    "plt.show()"
   ]
  },
  {
   "cell_type": "code",
   "execution_count": 15,
   "metadata": {},
   "outputs": [
    {
     "data": {
      "image/png": "[encoded data removed]",
      "text/plain": [
       "<matplotlib.figure.Figure at 0x1158cdc88>"
      ]
     },
     "metadata": {},
     "output_type": "display_data"
    }
   ],
   "source": [
    "plt.figure(figsize=(10, 5))\n",
    "plt.hist(df['reviews_rating'], bins = 15) \n",
    "plt.xlabel('reviews_rating')\n",
    "plt.show() "
   ]
  },
  {
   "cell_type": "markdown",
   "metadata": {},
   "source": [
    "### Here is where I'm going to start doing visualizations of the location of these hotels and the reviewer locations. "
   ]
  },
  {
   "cell_type": "code",
   "execution_count": 21,
   "metadata": {},
   "outputs": [
    {
     "data": {
      "text/plain": [
       "Index(['dateadded', 'dateupdated', 'address', 'categories',\n",
       "       'primarycategories', 'city', 'country', 'name', 'postalcode',\n",
       "       'province', 'reviews_date', 'reviews_dateseen', 'reviews_rating',\n",
       "       'reviews_text', 'reviews_title', 'reviews_usercity',\n",
       "       'reviews_userprovince', 'reviews_username'],\n",
       "      dtype='object')"
      ]
     },
     "execution_count": 21,
     "metadata": {},
     "output_type": "execute_result"
    }
   ],
   "source": [
    "df.columns"
   ]
  },
  {
   "cell_type": "code",
   "execution_count": 22,
   "metadata": {},
   "outputs": [
    {
     "data": {
      "text/plain": [
       "US    10000\n",
       "Name: country, dtype: int64"
      ]
     },
     "execution_count": 22,
     "metadata": {},
     "output_type": "execute_result"
    }
   ],
   "source": [
    "df.country.value_counts().head()"
   ]
  },
  {
   "cell_type": "code",
   "execution_count": 23,
   "metadata": {},
   "outputs": [
    {
     "data": {
      "text/plain": [
       "Las Vegas         506\n",
       "Chicago           356\n",
       "Virginia Beach    257\n",
       "Boston            249\n",
       "Arlington         217\n",
       "Springfield       208\n",
       "Hyattsville       202\n",
       "Miami Beach       197\n",
       "Baltimore         184\n",
       "New Orleans       183\n",
       "Name: city, dtype: int64"
      ]
     },
     "execution_count": 23,
     "metadata": {},
     "output_type": "execute_result"
    }
   ],
   "source": [
    "df.city.value_counts().head(10)"
   ]
  },
  {
   "cell_type": "code",
   "execution_count": 24,
   "metadata": {},
   "outputs": [
    {
     "data": {
      "text/plain": [
       "Las Vegas         362\n",
       "Chicago           327\n",
       "Boston            268\n",
       "Virginia Beach    260\n",
       "Arlington         215\n",
       "Hyattsville       202\n",
       "Springfield       202\n",
       "Baltimore         199\n",
       "Miami Beach       189\n",
       "San Francisco     139\n",
       "Name: reviews_usercity, dtype: int64"
      ]
     },
     "execution_count": 24,
     "metadata": {},
     "output_type": "execute_result"
    }
   ],
   "source": [
    "df.reviews_usercity.value_counts().head(10)"
   ]
  },
  {
   "cell_type": "code",
   "execution_count": 25,
   "metadata": {},
   "outputs": [
    {
     "data": {
      "text/plain": [
       "VA    1070\n",
       "CA     929\n",
       "MD     916\n",
       "FL     802\n",
       "IL     465\n",
       "NV     458\n",
       "MA     358\n",
       "TX     338\n",
       "SC     272\n",
       "PA     257\n",
       "Name: reviews_userprovince, dtype: int64"
      ]
     },
     "execution_count": 25,
     "metadata": {},
     "output_type": "execute_result"
    }
   ],
   "source": [
    "df.reviews_userprovince.value_counts().head(10)"
   ]
  },
  {
   "cell_type": "code",
   "execution_count": 26,
   "metadata": {
    "collapsed": true
   },
   "outputs": [],
   "source": []
  },
  {
   "cell_type": "code",
   "execution_count": 27,
   "metadata": {
    "collapsed": true
   },
   "outputs": [],
   "source": [
    "# Empty dataset to put the cleaned up data\n",
    "location_data = pd.DataFrame(index=range(0,10000), columns=['city', 'postalcode', 'province', 'reviews_usercity', 'reviews_userprovince'])"
   ]
  },
  {
   "cell_type": "code",
   "execution_count": 28,
   "metadata": {
    "collapsed": true
   },
   "outputs": [],
   "source": [
    "col_list = ['city', 'postalcode', 'province', 'reviews_usercity', 'reviews_userprovince']"
   ]
  },
  {
   "cell_type": "code",
   "execution_count": 29,
   "metadata": {
    "collapsed": true
   },
   "outputs": [],
   "source": [
    "for each in col_list:\n",
    "    location_data[each] = df[each]"
   ]
  },
  {
   "cell_type": "code",
   "execution_count": 30,
   "metadata": {
    "scrolled": true
   },
   "outputs": [
    {
     "data": {
      "text/html": [
       "<div>\n",
       "<style>\n",
       "    .dataframe thead tr:only-child th {\n",
       "        text-align: right;\n",
       "    }\n",
       "\n",
       "    .dataframe thead th {\n",
       "        text-align: left;\n",
       "    }\n",
       "\n",
       "    .dataframe tbody tr th {\n",
       "        vertical-align: top;\n",
       "    }\n",
       "</style>\n",
       "<table border=\"1\" class=\"dataframe\">\n",
       "  <thead>\n",
       "    <tr style=\"text-align: right;\">\n",
       "      <th></th>\n",
       "      <th>city</th>\n",
       "      <th>postalcode</th>\n",
       "      <th>province</th>\n",
       "      <th>reviews_usercity</th>\n",
       "      <th>reviews_userprovince</th>\n",
       "    </tr>\n",
       "  </thead>\n",
       "  <tbody>\n",
       "    <tr>\n",
       "      <th>0</th>\n",
       "      <td>Rancho Santa Fe</td>\n",
       "      <td>92067</td>\n",
       "      <td>CA</td>\n",
       "      <td>Rancho Santa Fe</td>\n",
       "      <td>CA</td>\n",
       "    </tr>\n",
       "    <tr>\n",
       "      <th>1</th>\n",
       "      <td>Rancho Santa Fe</td>\n",
       "      <td>92067</td>\n",
       "      <td>CA</td>\n",
       "      <td>Rancho Santa Fe</td>\n",
       "      <td>CA</td>\n",
       "    </tr>\n",
       "    <tr>\n",
       "      <th>2</th>\n",
       "      <td>Rancho Santa Fe</td>\n",
       "      <td>92067</td>\n",
       "      <td>CA</td>\n",
       "      <td>Rancho Santa Fe</td>\n",
       "      <td>CA</td>\n",
       "    </tr>\n",
       "    <tr>\n",
       "      <th>3</th>\n",
       "      <td>Hanover</td>\n",
       "      <td>21076</td>\n",
       "      <td>MD</td>\n",
       "      <td>Richmond</td>\n",
       "      <td>VA</td>\n",
       "    </tr>\n",
       "    <tr>\n",
       "      <th>4</th>\n",
       "      <td>Hanover</td>\n",
       "      <td>21076</td>\n",
       "      <td>MD</td>\n",
       "      <td>Laurel</td>\n",
       "      <td>MD</td>\n",
       "    </tr>\n",
       "  </tbody>\n",
       "</table>\n",
       "</div>"
      ],
      "text/plain": [
       "              city postalcode province reviews_usercity reviews_userprovince\n",
       "0  Rancho Santa Fe      92067       CA  Rancho Santa Fe                   CA\n",
       "1  Rancho Santa Fe      92067       CA  Rancho Santa Fe                   CA\n",
       "2  Rancho Santa Fe      92067       CA  Rancho Santa Fe                   CA\n",
       "3          Hanover      21076       MD         Richmond                   VA\n",
       "4          Hanover      21076       MD           Laurel                   MD"
      ]
     },
     "execution_count": 30,
     "metadata": {},
     "output_type": "execute_result"
    }
   ],
   "source": [
    "location_data.head()"
   ]
  },
  {
   "cell_type": "code",
   "execution_count": 31,
   "metadata": {
    "collapsed": true
   },
   "outputs": [],
   "source": [
    "# Empty dataset to put the cleaned up data\n",
    "state_count_data = pd.DataFrame(index=range(0,0), columns=['state', 'review_count'])"
   ]
  },
  {
   "cell_type": "code",
   "execution_count": 32,
   "metadata": {
    "collapsed": true,
    "scrolled": true
   },
   "outputs": [],
   "source": [
    "each_state = list(set(location_data.province))"
   ]
  },
  {
   "cell_type": "code",
   "execution_count": 33,
   "metadata": {
    "collapsed": true
   },
   "outputs": [],
   "source": [
    "state_count_data.state = location_data.province.value_counts().keys()"
   ]
  },
  {
   "cell_type": "code",
   "execution_count": 34,
   "metadata": {
    "collapsed": true,
    "scrolled": true
   },
   "outputs": [],
   "source": [
    "for i in range(len(location_data.province.value_counts())):\n",
    "    state_count_data.review_count[i] = location_data.province.value_counts()[i]"
   ]
  },
  {
   "cell_type": "code",
   "execution_count": 55,
   "metadata": {
    "scrolled": true
   },
   "outputs": [
    {
     "data": {
      "text/html": [
       "<div>\n",
       "<style>\n",
       "    .dataframe thead tr:only-child th {\n",
       "        text-align: right;\n",
       "    }\n",
       "\n",
       "    .dataframe thead th {\n",
       "        text-align: left;\n",
       "    }\n",
       "\n",
       "    .dataframe tbody tr th {\n",
       "        vertical-align: top;\n",
       "    }\n",
       "</style>\n",
       "<table border=\"1\" class=\"dataframe\">\n",
       "  <thead>\n",
       "    <tr style=\"text-align: right;\">\n",
       "      <th></th>\n",
       "      <th>state</th>\n",
       "      <th>review_count</th>\n",
       "    </tr>\n",
       "  </thead>\n",
       "  <tbody>\n",
       "    <tr>\n",
       "      <th>0</th>\n",
       "      <td>VA</td>\n",
       "      <td>1096</td>\n",
       "    </tr>\n",
       "    <tr>\n",
       "      <th>1</th>\n",
       "      <td>CA</td>\n",
       "      <td>1053</td>\n",
       "    </tr>\n",
       "    <tr>\n",
       "      <th>2</th>\n",
       "      <td>MD</td>\n",
       "      <td>896</td>\n",
       "    </tr>\n",
       "    <tr>\n",
       "      <th>3</th>\n",
       "      <td>FL</td>\n",
       "      <td>877</td>\n",
       "    </tr>\n",
       "    <tr>\n",
       "      <th>4</th>\n",
       "      <td>NV</td>\n",
       "      <td>541</td>\n",
       "    </tr>\n",
       "    <tr>\n",
       "      <th>5</th>\n",
       "      <td>IL</td>\n",
       "      <td>465</td>\n",
       "    </tr>\n",
       "    <tr>\n",
       "      <th>6</th>\n",
       "      <td>MA</td>\n",
       "      <td>336</td>\n",
       "    </tr>\n",
       "    <tr>\n",
       "      <th>7</th>\n",
       "      <td>PA</td>\n",
       "      <td>315</td>\n",
       "    </tr>\n",
       "    <tr>\n",
       "      <th>8</th>\n",
       "      <td>SC</td>\n",
       "      <td>297</td>\n",
       "    </tr>\n",
       "    <tr>\n",
       "      <th>9</th>\n",
       "      <td>TX</td>\n",
       "      <td>291</td>\n",
       "    </tr>\n",
       "    <tr>\n",
       "      <th>10</th>\n",
       "      <td>GA</td>\n",
       "      <td>281</td>\n",
       "    </tr>\n",
       "    <tr>\n",
       "      <th>11</th>\n",
       "      <td>LA</td>\n",
       "      <td>239</td>\n",
       "    </tr>\n",
       "    <tr>\n",
       "      <th>12</th>\n",
       "      <td>WA</td>\n",
       "      <td>237</td>\n",
       "    </tr>\n",
       "    <tr>\n",
       "      <th>13</th>\n",
       "      <td>NY</td>\n",
       "      <td>213</td>\n",
       "    </tr>\n",
       "    <tr>\n",
       "      <th>14</th>\n",
       "      <td>AZ</td>\n",
       "      <td>212</td>\n",
       "    </tr>\n",
       "    <tr>\n",
       "      <th>15</th>\n",
       "      <td>HI</td>\n",
       "      <td>212</td>\n",
       "    </tr>\n",
       "    <tr>\n",
       "      <th>16</th>\n",
       "      <td>TN</td>\n",
       "      <td>176</td>\n",
       "    </tr>\n",
       "    <tr>\n",
       "      <th>17</th>\n",
       "      <td>OR</td>\n",
       "      <td>171</td>\n",
       "    </tr>\n",
       "    <tr>\n",
       "      <th>18</th>\n",
       "      <td>OH</td>\n",
       "      <td>171</td>\n",
       "    </tr>\n",
       "    <tr>\n",
       "      <th>19</th>\n",
       "      <td>WI</td>\n",
       "      <td>165</td>\n",
       "    </tr>\n",
       "    <tr>\n",
       "      <th>20</th>\n",
       "      <td>MO</td>\n",
       "      <td>152</td>\n",
       "    </tr>\n",
       "    <tr>\n",
       "      <th>21</th>\n",
       "      <td>CO</td>\n",
       "      <td>134</td>\n",
       "    </tr>\n",
       "    <tr>\n",
       "      <th>22</th>\n",
       "      <td>KY</td>\n",
       "      <td>124</td>\n",
       "    </tr>\n",
       "    <tr>\n",
       "      <th>23</th>\n",
       "      <td>NJ</td>\n",
       "      <td>119</td>\n",
       "    </tr>\n",
       "    <tr>\n",
       "      <th>24</th>\n",
       "      <td>NC</td>\n",
       "      <td>117</td>\n",
       "    </tr>\n",
       "    <tr>\n",
       "      <th>25</th>\n",
       "      <td>MI</td>\n",
       "      <td>103</td>\n",
       "    </tr>\n",
       "    <tr>\n",
       "      <th>26</th>\n",
       "      <td>OK</td>\n",
       "      <td>98</td>\n",
       "    </tr>\n",
       "    <tr>\n",
       "      <th>27</th>\n",
       "      <td>IN</td>\n",
       "      <td>97</td>\n",
       "    </tr>\n",
       "    <tr>\n",
       "      <th>28</th>\n",
       "      <td>ME</td>\n",
       "      <td>77</td>\n",
       "    </tr>\n",
       "    <tr>\n",
       "      <th>29</th>\n",
       "      <td>NM</td>\n",
       "      <td>70</td>\n",
       "    </tr>\n",
       "    <tr>\n",
       "      <th>30</th>\n",
       "      <td>KS</td>\n",
       "      <td>58</td>\n",
       "    </tr>\n",
       "    <tr>\n",
       "      <th>31</th>\n",
       "      <td>ID</td>\n",
       "      <td>56</td>\n",
       "    </tr>\n",
       "    <tr>\n",
       "      <th>32</th>\n",
       "      <td>DE</td>\n",
       "      <td>56</td>\n",
       "    </tr>\n",
       "    <tr>\n",
       "      <th>33</th>\n",
       "      <td>MT</td>\n",
       "      <td>54</td>\n",
       "    </tr>\n",
       "    <tr>\n",
       "      <th>34</th>\n",
       "      <td>IA</td>\n",
       "      <td>51</td>\n",
       "    </tr>\n",
       "    <tr>\n",
       "      <th>35</th>\n",
       "      <td>NE</td>\n",
       "      <td>45</td>\n",
       "    </tr>\n",
       "    <tr>\n",
       "      <th>36</th>\n",
       "      <td>MN</td>\n",
       "      <td>41</td>\n",
       "    </tr>\n",
       "    <tr>\n",
       "      <th>37</th>\n",
       "      <td>NH</td>\n",
       "      <td>38</td>\n",
       "    </tr>\n",
       "    <tr>\n",
       "      <th>38</th>\n",
       "      <td>WY</td>\n",
       "      <td>37</td>\n",
       "    </tr>\n",
       "    <tr>\n",
       "      <th>39</th>\n",
       "      <td>WV</td>\n",
       "      <td>35</td>\n",
       "    </tr>\n",
       "    <tr>\n",
       "      <th>40</th>\n",
       "      <td>SD</td>\n",
       "      <td>33</td>\n",
       "    </tr>\n",
       "    <tr>\n",
       "      <th>41</th>\n",
       "      <td>AR</td>\n",
       "      <td>33</td>\n",
       "    </tr>\n",
       "    <tr>\n",
       "      <th>42</th>\n",
       "      <td>CT</td>\n",
       "      <td>30</td>\n",
       "    </tr>\n",
       "    <tr>\n",
       "      <th>43</th>\n",
       "      <td>AK</td>\n",
       "      <td>21</td>\n",
       "    </tr>\n",
       "    <tr>\n",
       "      <th>44</th>\n",
       "      <td>MS</td>\n",
       "      <td>20</td>\n",
       "    </tr>\n",
       "    <tr>\n",
       "      <th>45</th>\n",
       "      <td>UT</td>\n",
       "      <td>20</td>\n",
       "    </tr>\n",
       "    <tr>\n",
       "      <th>46</th>\n",
       "      <td>ND</td>\n",
       "      <td>18</td>\n",
       "    </tr>\n",
       "    <tr>\n",
       "      <th>47</th>\n",
       "      <td>VT</td>\n",
       "      <td>14</td>\n",
       "    </tr>\n",
       "    <tr>\n",
       "      <th>48</th>\n",
       "      <td>RI</td>\n",
       "      <td>5</td>\n",
       "    </tr>\n",
       "  </tbody>\n",
       "</table>\n",
       "</div>"
      ],
      "text/plain": [
       "   state review_count\n",
       "0   VA    1096       \n",
       "1   CA    1053       \n",
       "2   MD    896        \n",
       "3   FL    877        \n",
       "4   NV    541        \n",
       "5   IL    465        \n",
       "6   MA    336        \n",
       "7   PA    315        \n",
       "8   SC    297        \n",
       "9   TX    291        \n",
       "10  GA    281        \n",
       "11  LA    239        \n",
       "12  WA    237        \n",
       "13  NY    213        \n",
       "14  AZ    212        \n",
       "15  HI    212        \n",
       "16  TN    176        \n",
       "17  OR    171        \n",
       "18  OH    171        \n",
       "19  WI    165        \n",
       "20  MO    152        \n",
       "21  CO    134        \n",
       "22  KY    124        \n",
       "23  NJ    119        \n",
       "24  NC    117        \n",
       "25  MI    103        \n",
       "26  OK    98         \n",
       "27  IN    97         \n",
       "28  ME    77         \n",
       "29  NM    70         \n",
       "30  KS    58         \n",
       "31  ID    56         \n",
       "32  DE    56         \n",
       "33  MT    54         \n",
       "34  IA    51         \n",
       "35  NE    45         \n",
       "36  MN    41         \n",
       "37  NH    38         \n",
       "38  WY    37         \n",
       "39  WV    35         \n",
       "40  SD    33         \n",
       "41  AR    33         \n",
       "42  CT    30         \n",
       "43  AK    21         \n",
       "44  MS    20         \n",
       "45  UT    20         \n",
       "46  ND    18         \n",
       "47  VT    14         \n",
       "48  RI    5          "
      ]
     },
     "execution_count": 55,
     "metadata": {},
     "output_type": "execute_result"
    }
   ],
   "source": [
    "state_count_data"
   ]
  },
  {
   "cell_type": "code",
   "execution_count": 36,
   "metadata": {
    "scrolled": false
   },
   "outputs": [
    {
     "data": {
      "text/html": [
       "<script type=\"text/javascript\">window.PlotlyConfig = {MathJaxConfig: 'local'};</script><script type=\"text/javascript\">if (window.MathJax) {MathJax.Hub.Config({SVG: {font: \"STIX-Web\"}});}</script><script>requirejs.config({paths: { 'plotly': ['https://cdn.plot.ly/plotly-latest.min']},});if(!window._Plotly) {require(['plotly'],function(plotly) {window._Plotly=plotly;});}</script>"
      ],
      "text/vnd.plotly.v1+html": [
       "<script type=\"text/javascript\">window.PlotlyConfig = {MathJaxConfig: 'local'};</script><script type=\"text/javascript\">if (window.MathJax) {MathJax.Hub.Config({SVG: {font: \"STIX-Web\"}});}</script><script>requirejs.config({paths: { 'plotly': ['https://cdn.plot.ly/plotly-latest.min']},});if(!window._Plotly) {require(['plotly'],function(plotly) {window._Plotly=plotly;});}</script>"
      ]
     },
     "metadata": {},
     "output_type": "display_data"
    },
    {
     "data": {
      "text/html": [
       "<iframe id=\"igraph\" scrolling=\"no\" style=\"border:none;\" seamless=\"seamless\" src=\"https://plot.ly/~clfletch/259.embed\" height=\"525px\" width=\"100%\"></iframe>"
      ],
      "text/plain": [
       "<plotly.tools.PlotlyDisplay object>"
      ]
     },
     "execution_count": 36,
     "metadata": {},
     "output_type": "execute_result"
    }
   ],
   "source": [
    "from plotly.offline import init_notebook_mode, iplot\n",
    "from plotly.graph_objs import *\n",
    "py.sign_in('clfletch', 'u2XGtxXiqIOhSDczc1vO')\n",
    "\n",
    "init_notebook_mode(connected=True) \n",
    "\n",
    "scl = [[0.0, 'rgb(255, 255, 204)'],[0.25, 'rgb(161, 218, 180)'],[0.5, 'rgb(65, 182, 196)'],\\\n",
    "            [0.6, 'rgb(44, 127, 184)'],[0.7, 'rgb(8, 104, 172)'],[1.0, 'rgb(37, 52, 148)']]\n",
    "\n",
    "\n",
    "data = [ dict(\n",
    "        type='choropleth',\n",
    "        colorscale = scl,\n",
    "        autocolorscale = False,\n",
    "        locations = state_count_data.state,\n",
    "        z = state_count_data.review_count,\n",
    "        locationmode = 'USA-states',\n",
    "        marker = dict(\n",
    "            line = dict (\n",
    "                color = 'rgb(55,55,155)',\n",
    "                width = 1\n",
    "            ) ),\n",
    "        colorbar = dict(\n",
    "            title = \"Number of Hotel Reviews Per State\")\n",
    "        ) ]\n",
    "\n",
    "layout = dict(\n",
    "        title = 'Number of Hotel Review',\n",
    "        geo = dict(\n",
    "            scope='usa',\n",
    "            projection=dict( type='albers usa' ),\n",
    "            showlakes = True,\n",
    "            lakecolor = 'rgb(255, 255, 255)'),\n",
    "             )\n",
    "    \n",
    "fig = dict( data=data, layout=layout )\n",
    "py.iplot(fig)"
   ]
  },
  {
   "cell_type": "code",
   "execution_count": null,
   "metadata": {
    "collapsed": true
   },
   "outputs": [],
   "source": []
  },
  {
   "cell_type": "code",
   "execution_count": null,
   "metadata": {
    "collapsed": true
   },
   "outputs": [],
   "source": []
  },
  {
   "cell_type": "code",
   "execution_count": null,
   "metadata": {
    "collapsed": true
   },
   "outputs": [],
   "source": []
  },
  {
   "cell_type": "code",
   "execution_count": null,
   "metadata": {
    "collapsed": true
   },
   "outputs": [],
   "source": []
  },
  {
   "cell_type": "code",
   "execution_count": null,
   "metadata": {
    "collapsed": true
   },
   "outputs": [],
   "source": []
  },
  {
   "cell_type": "code",
   "execution_count": 37,
   "metadata": {},
   "outputs": [
    {
     "data": {
      "text/plain": [
       "0             Best romantic vacation ever!!!!\n",
       "1                        Sweet sweet serenity\n",
       "2             Amazing Property and Experience\n",
       "3    Never again...beware, if you want sleep.\n",
       "4                        ALWAYS GREAT STAY...\n",
       "Name: reviews_title, dtype: object"
      ]
     },
     "execution_count": 37,
     "metadata": {},
     "output_type": "execute_result"
    }
   ],
   "source": [
    "df['reviews_title'].head()"
   ]
  },
  {
   "cell_type": "code",
   "execution_count": 38,
   "metadata": {},
   "outputs": [
    {
     "data": {
      "text/plain": [
       "0    Our experience at Rancho Valencia was absolute...\n",
       "1    Amazing place. Everyone was extremely warm and...\n",
       "2    We booked a 3 night stay at Rancho Valencia to...\n",
       "3    Currently in bed writing this for the past hr ...\n",
       "4    I live in Md and the Aloft is my Home away fro...\n",
       "Name: reviews_text, dtype: object"
      ]
     },
     "execution_count": 38,
     "metadata": {},
     "output_type": "execute_result"
    }
   ],
   "source": [
    "df['reviews_text'].head()"
   ]
  },
  {
   "cell_type": "code",
   "execution_count": 39,
   "metadata": {
    "collapsed": true
   },
   "outputs": [],
   "source": [
    "#Here we clean the reviews by removing all the  punctuation, \n",
    "#removing all that is unnecessary.\n",
    "\n",
    "df['reviews_title'] = df['reviews_title'].str.replace(r'[^a-zA-Z0-9 ]', \"\",).fillna('')\n",
    "df['reviews_title'] = df['reviews_title'].str.lower()\n",
    "df['reviews_text'] = df['reviews_text'].str.replace(r'[^a-zA-Z0-9 ]', \"\",).fillna('')\n",
    "df['reviews_text'] = df['reviews_text'].str.lower()"
   ]
  },
  {
   "cell_type": "code",
   "execution_count": 40,
   "metadata": {},
   "outputs": [
    {
     "data": {
      "text/plain": [
       "0            best romantic vacation ever\n",
       "1                   sweet sweet serenity\n",
       "2        amazing property and experience\n",
       "3    never againbeware if you want sleep\n",
       "4                      always great stay\n",
       "Name: reviews_title, dtype: object"
      ]
     },
     "execution_count": 40,
     "metadata": {},
     "output_type": "execute_result"
    }
   ],
   "source": [
    "df['reviews_title'].head()"
   ]
  },
  {
   "cell_type": "code",
   "execution_count": 41,
   "metadata": {},
   "outputs": [
    {
     "data": {
      "text/plain": [
       "0    our experience at rancho valencia was absolute...\n",
       "1    amazing place everyone was extremely warm and ...\n",
       "2    we booked a 3 night stay at rancho valencia to...\n",
       "3    currently in bed writing this for the past hr ...\n",
       "4    i live in md and the aloft is my home away fro...\n",
       "Name: reviews_text, dtype: object"
      ]
     },
     "execution_count": 41,
     "metadata": {},
     "output_type": "execute_result"
    }
   ],
   "source": [
    "df['reviews_text'].head()"
   ]
  },
  {
   "cell_type": "code",
   "execution_count": 42,
   "metadata": {},
   "outputs": [
    {
     "name": "stdout",
     "output_type": "stream",
     "text": [
      "The shape of the data is: (10000, 18)\n"
     ]
    },
    {
     "data": {
      "text/html": [
       "<div>\n",
       "<style>\n",
       "    .dataframe thead tr:only-child th {\n",
       "        text-align: right;\n",
       "    }\n",
       "\n",
       "    .dataframe thead th {\n",
       "        text-align: left;\n",
       "    }\n",
       "\n",
       "    .dataframe tbody tr th {\n",
       "        vertical-align: top;\n",
       "    }\n",
       "</style>\n",
       "<table border=\"1\" class=\"dataframe\">\n",
       "  <thead>\n",
       "    <tr style=\"text-align: right;\">\n",
       "      <th></th>\n",
       "      <th>dateadded</th>\n",
       "      <th>dateupdated</th>\n",
       "      <th>address</th>\n",
       "      <th>categories</th>\n",
       "      <th>primarycategories</th>\n",
       "      <th>city</th>\n",
       "      <th>country</th>\n",
       "      <th>name</th>\n",
       "      <th>postalcode</th>\n",
       "      <th>province</th>\n",
       "      <th>reviews_date</th>\n",
       "      <th>reviews_dateseen</th>\n",
       "      <th>reviews_rating</th>\n",
       "      <th>reviews_text</th>\n",
       "      <th>reviews_title</th>\n",
       "      <th>reviews_usercity</th>\n",
       "      <th>reviews_userprovince</th>\n",
       "      <th>reviews_username</th>\n",
       "    </tr>\n",
       "  </thead>\n",
       "  <tbody>\n",
       "    <tr>\n",
       "      <th>0</th>\n",
       "      <td>2016-10-30</td>\n",
       "      <td>2018-09-10</td>\n",
       "      <td>5921 Valencia Cir</td>\n",
       "      <td>Hotels,Hotels and motels,Hotel and motel reser...</td>\n",
       "      <td>Accommodation &amp; Food Services</td>\n",
       "      <td>Rancho Santa Fe</td>\n",
       "      <td>US</td>\n",
       "      <td>Rancho Valencia Resort Spa</td>\n",
       "      <td>92067</td>\n",
       "      <td>CA</td>\n",
       "      <td>2013-11-14</td>\n",
       "      <td>2016-08-03</td>\n",
       "      <td>5.0</td>\n",
       "      <td>our experience at rancho valencia was absolute...</td>\n",
       "      <td>best romantic vacation ever</td>\n",
       "      <td>Rancho Santa Fe</td>\n",
       "      <td>CA</td>\n",
       "      <td>Paula</td>\n",
       "    </tr>\n",
       "    <tr>\n",
       "      <th>1</th>\n",
       "      <td>2016-10-30</td>\n",
       "      <td>2018-09-10</td>\n",
       "      <td>5921 Valencia Cir</td>\n",
       "      <td>Hotels,Hotels and motels,Hotel and motel reser...</td>\n",
       "      <td>Accommodation &amp; Food Services</td>\n",
       "      <td>Rancho Santa Fe</td>\n",
       "      <td>US</td>\n",
       "      <td>Rancho Valencia Resort Spa</td>\n",
       "      <td>92067</td>\n",
       "      <td>CA</td>\n",
       "      <td>2014-07-06</td>\n",
       "      <td>2016-08-02</td>\n",
       "      <td>5.0</td>\n",
       "      <td>amazing place everyone was extremely warm and ...</td>\n",
       "      <td>sweet sweet serenity</td>\n",
       "      <td>Rancho Santa Fe</td>\n",
       "      <td>CA</td>\n",
       "      <td>D</td>\n",
       "    </tr>\n",
       "    <tr>\n",
       "      <th>2</th>\n",
       "      <td>2016-10-30</td>\n",
       "      <td>2018-09-10</td>\n",
       "      <td>5921 Valencia Cir</td>\n",
       "      <td>Hotels,Hotels and motels,Hotel and motel reser...</td>\n",
       "      <td>Accommodation &amp; Food Services</td>\n",
       "      <td>Rancho Santa Fe</td>\n",
       "      <td>US</td>\n",
       "      <td>Rancho Valencia Resort Spa</td>\n",
       "      <td>92067</td>\n",
       "      <td>CA</td>\n",
       "      <td>2015-01-02</td>\n",
       "      <td>2016-11-15</td>\n",
       "      <td>5.0</td>\n",
       "      <td>we booked a 3 night stay at rancho valencia to...</td>\n",
       "      <td>amazing property and experience</td>\n",
       "      <td>Rancho Santa Fe</td>\n",
       "      <td>CA</td>\n",
       "      <td>Ron</td>\n",
       "    </tr>\n",
       "    <tr>\n",
       "      <th>3</th>\n",
       "      <td>2015-11-28</td>\n",
       "      <td>2018-09-10</td>\n",
       "      <td>7520 Teague Rd</td>\n",
       "      <td>Hotels,Hotels and motels,Travel agencies and b...</td>\n",
       "      <td>Accommodation &amp; Food Services</td>\n",
       "      <td>Hanover</td>\n",
       "      <td>US</td>\n",
       "      <td>Aloft Arundel Mills</td>\n",
       "      <td>21076</td>\n",
       "      <td>MD</td>\n",
       "      <td>2016-05-15</td>\n",
       "      <td>2016-05-21</td>\n",
       "      <td>2.0</td>\n",
       "      <td>currently in bed writing this for the past hr ...</td>\n",
       "      <td>never againbeware if you want sleep</td>\n",
       "      <td>Richmond</td>\n",
       "      <td>VA</td>\n",
       "      <td>jaeem2016</td>\n",
       "    </tr>\n",
       "    <tr>\n",
       "      <th>4</th>\n",
       "      <td>2015-11-28</td>\n",
       "      <td>2018-09-10</td>\n",
       "      <td>7520 Teague Rd</td>\n",
       "      <td>Hotels,Hotels and motels,Travel agencies and b...</td>\n",
       "      <td>Accommodation &amp; Food Services</td>\n",
       "      <td>Hanover</td>\n",
       "      <td>US</td>\n",
       "      <td>Aloft Arundel Mills</td>\n",
       "      <td>21076</td>\n",
       "      <td>MD</td>\n",
       "      <td>2016-07-09</td>\n",
       "      <td>2016-07-31</td>\n",
       "      <td>5.0</td>\n",
       "      <td>i live in md and the aloft is my home away fro...</td>\n",
       "      <td>always great stay</td>\n",
       "      <td>Laurel</td>\n",
       "      <td>MD</td>\n",
       "      <td>MamaNiaOne</td>\n",
       "    </tr>\n",
       "  </tbody>\n",
       "</table>\n",
       "</div>"
      ],
      "text/plain": [
       "   dateadded dateupdated            address  \\\n",
       "0 2016-10-30  2018-09-10  5921 Valencia Cir   \n",
       "1 2016-10-30  2018-09-10  5921 Valencia Cir   \n",
       "2 2016-10-30  2018-09-10  5921 Valencia Cir   \n",
       "3 2015-11-28  2018-09-10     7520 Teague Rd   \n",
       "4 2015-11-28  2018-09-10     7520 Teague Rd   \n",
       "\n",
       "                                          categories  \\\n",
       "0  Hotels,Hotels and motels,Hotel and motel reser...   \n",
       "1  Hotels,Hotels and motels,Hotel and motel reser...   \n",
       "2  Hotels,Hotels and motels,Hotel and motel reser...   \n",
       "3  Hotels,Hotels and motels,Travel agencies and b...   \n",
       "4  Hotels,Hotels and motels,Travel agencies and b...   \n",
       "\n",
       "               primarycategories             city country  \\\n",
       "0  Accommodation & Food Services  Rancho Santa Fe      US   \n",
       "1  Accommodation & Food Services  Rancho Santa Fe      US   \n",
       "2  Accommodation & Food Services  Rancho Santa Fe      US   \n",
       "3  Accommodation & Food Services          Hanover      US   \n",
       "4  Accommodation & Food Services          Hanover      US   \n",
       "\n",
       "                         name postalcode province reviews_date  \\\n",
       "0  Rancho Valencia Resort Spa      92067       CA   2013-11-14   \n",
       "1  Rancho Valencia Resort Spa      92067       CA   2014-07-06   \n",
       "2  Rancho Valencia Resort Spa      92067       CA   2015-01-02   \n",
       "3         Aloft Arundel Mills      21076       MD   2016-05-15   \n",
       "4         Aloft Arundel Mills      21076       MD   2016-07-09   \n",
       "\n",
       "  reviews_dateseen  reviews_rating  \\\n",
       "0       2016-08-03             5.0   \n",
       "1       2016-08-02             5.0   \n",
       "2       2016-11-15             5.0   \n",
       "3       2016-05-21             2.0   \n",
       "4       2016-07-31             5.0   \n",
       "\n",
       "                                        reviews_text  \\\n",
       "0  our experience at rancho valencia was absolute...   \n",
       "1  amazing place everyone was extremely warm and ...   \n",
       "2  we booked a 3 night stay at rancho valencia to...   \n",
       "3  currently in bed writing this for the past hr ...   \n",
       "4  i live in md and the aloft is my home away fro...   \n",
       "\n",
       "                         reviews_title reviews_usercity reviews_userprovince  \\\n",
       "0          best romantic vacation ever  Rancho Santa Fe                   CA   \n",
       "1                 sweet sweet serenity  Rancho Santa Fe                   CA   \n",
       "2      amazing property and experience  Rancho Santa Fe                   CA   \n",
       "3  never againbeware if you want sleep         Richmond                   VA   \n",
       "4                    always great stay           Laurel                   MD   \n",
       "\n",
       "  reviews_username  \n",
       "0            Paula  \n",
       "1                D  \n",
       "2              Ron  \n",
       "3        jaeem2016  \n",
       "4       MamaNiaOne  "
      ]
     },
     "metadata": {},
     "output_type": "display_data"
    }
   ],
   "source": [
    "print('The shape of the data is:', df.shape)\n",
    "display(df.head())"
   ]
  },
  {
   "cell_type": "markdown",
   "metadata": {
    "collapsed": true
   },
   "source": [
    "## Tokenization"
   ]
  },
  {
   "cell_type": "code",
   "execution_count": 43,
   "metadata": {
    "collapsed": true
   },
   "outputs": [],
   "source": [
    "# Will B. started this section to build onto Mel's capstone."
   ]
  },
  {
   "cell_type": "code",
   "execution_count": 44,
   "metadata": {
    "collapsed": true
   },
   "outputs": [],
   "source": [
    "df['words'] = df.reviews_text.str.strip().str.split('[\\W_]+')"
   ]
  },
  {
   "cell_type": "code",
   "execution_count": 45,
   "metadata": {},
   "outputs": [
    {
     "data": {
      "text/plain": [
       "0    [our, experience, at, rancho, valencia, was, a...\n",
       "1    [amazing, place, everyone, was, extremely, war...\n",
       "2    [we, booked, a, 3, night, stay, at, rancho, va...\n",
       "3    [currently, in, bed, writing, this, for, the, ...\n",
       "4    [i, live, in, md, and, the, aloft, is, my, hom...\n",
       "Name: words, dtype: object"
      ]
     },
     "execution_count": 45,
     "metadata": {},
     "output_type": "execute_result"
    }
   ],
   "source": [
    "df['words'].head()"
   ]
  },
  {
   "cell_type": "code",
   "execution_count": 46,
   "metadata": {},
   "outputs": [
    {
     "data": {
      "text/html": [
       "<div>\n",
       "<style>\n",
       "    .dataframe thead tr:only-child th {\n",
       "        text-align: right;\n",
       "    }\n",
       "\n",
       "    .dataframe thead th {\n",
       "        text-align: left;\n",
       "    }\n",
       "\n",
       "    .dataframe tbody tr th {\n",
       "        vertical-align: top;\n",
       "    }\n",
       "</style>\n",
       "<table border=\"1\" class=\"dataframe\">\n",
       "  <thead>\n",
       "    <tr style=\"text-align: right;\">\n",
       "      <th></th>\n",
       "      <th>reviews_text</th>\n",
       "      <th>words</th>\n",
       "    </tr>\n",
       "  </thead>\n",
       "  <tbody>\n",
       "    <tr>\n",
       "      <th>16</th>\n",
       "      <td>very comfortable room our son came and they had a couch that they pulled out into a queen size bed free wifi and bottled water this hotel was built back in the 20s and the decor is fabulous a very neat hotel</td>\n",
       "      <td>[very, comfortable, room, our, son, came, and, they, had, a, couch, that, they, pulled, out, into, a, queen, size, bed, free, wifi, and, bottled, water, this, hotel, was, built, back, in, the, 20s, and, the, decor, is, fabulous, a, very, neat, hotel]</td>\n",
       "    </tr>\n",
       "    <tr>\n",
       "      <th>17</th>\n",
       "      <td>stayed here for second time recently gorgeous lobby friendly staff good free shuttle service our room this time was disappointing king bed in too small space so that one side did not even have a lamp also the heatingcooling unit was right next to the bed and very noisy so we turned it off luckily it was not needed room more</td>\n",
       "      <td>[stayed, here, for, second, time, recently, gorgeous, lobby, friendly, staff, good, free, shuttle, service, our, room, this, time, was, disappointing, king, bed, in, too, small, space, so, that, one, side, did, not, even, have, a, lamp, also, the, heatingcooling, unit, was, right, next, to, the, bed, and, very, noisy, so, we, turned, it, off, luckily, it, was, not, needed, room, more]</td>\n",
       "    </tr>\n",
       "    <tr>\n",
       "      <th>18</th>\n",
       "      <td>my husband and i always try to stay at the hotel phillips when we are in kansas city it is our favorite hotel and we have stayed at many i feel at home there and the staff has always been exceptional although we are not particularly demanding guests over the years we have probably spent at least 20 nights there more</td>\n",
       "      <td>[my, husband, and, i, always, try, to, stay, at, the, hotel, phillips, when, we, are, in, kansas, city, it, is, our, favorite, hotel, and, we, have, stayed, at, many, i, feel, at, home, there, and, the, staff, has, always, been, exceptional, although, we, are, not, particularly, demanding, guests, over, the, years, we, have, probably, spent, at, least, 20, nights, there, more]</td>\n",
       "    </tr>\n",
       "    <tr>\n",
       "      <th>19</th>\n",
       "      <td>just stayed one night but very happy nice comfortable top floor room staff could not have been more helpful great location right by the power light district be prepared to pay for valet parking price of this was offset though by free wine and cheese reception</td>\n",
       "      <td>[just, stayed, one, night, but, very, happy, nice, comfortable, top, floor, room, staff, could, not, have, been, more, helpful, great, location, right, by, the, power, light, district, be, prepared, to, pay, for, valet, parking, price, of, this, was, offset, though, by, free, wine, and, cheese, reception]</td>\n",
       "    </tr>\n",
       "  </tbody>\n",
       "</table>\n",
       "</div>"
      ],
      "text/plain": [
       "                                                                                                                                                                                                                                                                                                                             reviews_text  \\\n",
       "16  very comfortable room our son came and they had a couch that they pulled out into a queen size bed free wifi and bottled water this hotel was built back in the 20s and the decor is fabulous a very neat hotel                                                                                                                         \n",
       "17  stayed here for second time recently gorgeous lobby friendly staff good free shuttle service our room this time was disappointing king bed in too small space so that one side did not even have a lamp also the heatingcooling unit was right next to the bed and very noisy so we turned it off luckily it was not needed room more   \n",
       "18  my husband and i always try to stay at the hotel phillips when we are in kansas city it is our favorite hotel and we have stayed at many i feel at home there and the staff has always been exceptional although we are not particularly demanding guests over the years we have probably spent at least 20 nights there more           \n",
       "19  just stayed one night but very happy nice comfortable top floor room staff could not have been more helpful great location right by the power light district be prepared to pay for valet parking price of this was offset though by free wine and cheese reception                                                                     \n",
       "\n",
       "                                                                                                                                                                                                                                                                                                                                                                                                  words  \n",
       "16  [very, comfortable, room, our, son, came, and, they, had, a, couch, that, they, pulled, out, into, a, queen, size, bed, free, wifi, and, bottled, water, this, hotel, was, built, back, in, the, 20s, and, the, decor, is, fabulous, a, very, neat, hotel]                                                                                                                                           \n",
       "17  [stayed, here, for, second, time, recently, gorgeous, lobby, friendly, staff, good, free, shuttle, service, our, room, this, time, was, disappointing, king, bed, in, too, small, space, so, that, one, side, did, not, even, have, a, lamp, also, the, heatingcooling, unit, was, right, next, to, the, bed, and, very, noisy, so, we, turned, it, off, luckily, it, was, not, needed, room, more]  \n",
       "18  [my, husband, and, i, always, try, to, stay, at, the, hotel, phillips, when, we, are, in, kansas, city, it, is, our, favorite, hotel, and, we, have, stayed, at, many, i, feel, at, home, there, and, the, staff, has, always, been, exceptional, although, we, are, not, particularly, demanding, guests, over, the, years, we, have, probably, spent, at, least, 20, nights, there, more]          \n",
       "19  [just, stayed, one, night, but, very, happy, nice, comfortable, top, floor, room, staff, could, not, have, been, more, helpful, great, location, right, by, the, power, light, district, be, prepared, to, pay, for, valet, parking, price, of, this, was, offset, though, by, free, wine, and, cheese, reception]                                                                                   "
      ]
     },
     "execution_count": 46,
     "metadata": {},
     "output_type": "execute_result"
    }
   ],
   "source": [
    "pd.set_option('display.max_colwidth', -1) # Setting this so we can see the full content of cells\n",
    "\n",
    "# picked some arbitrary rows to review.\n",
    "df[['reviews_text','words']][16:20]"
   ]
  },
  {
   "cell_type": "code",
   "execution_count": 47,
   "metadata": {
    "collapsed": true
   },
   "outputs": [],
   "source": [
    "# We need to go through and remove stop words, like 'at', 'the', 'that', etc.\n",
    "# Here's one way to do that.\n",
    "\n",
    "# We'll do it all in one shot this time."
   ]
  },
  {
   "cell_type": "code",
   "execution_count": 48,
   "metadata": {
    "collapsed": true
   },
   "outputs": [],
   "source": [
    "import nltk\n",
    "from nltk.corpus import stopwords \n",
    "\n",
    "def preprocessing(text):\n",
    "\n",
    "#    text = text.decode(\"utf8\")\n",
    "\n",
    "    # tokenize into words\n",
    "    tokens = [word for sent in nltk.sent_tokenize(text) for word in nltk.word_tokenize(sent)]\n",
    "\n",
    "    # remove stopwords\n",
    "    stop = stopwords.words('english')\n",
    "    tokens = [token for token in tokens if token not in stop]\n",
    "\n",
    "    # remove words less than three letters\n",
    "    tokens = [word for word in tokens if len(word) >= 3]\n",
    "\n",
    "    # lower capitalization\n",
    "    tokens = [word.lower() for word in tokens]\n",
    "\n",
    "    # lemmatize\n",
    "#    lmtzr = WordNetLemmatizer()\n",
    "#    tokens = [lmtzr.lemmatize(word) for word in tokens]\n",
    "#    preprocessed_text= ' '.join(tokens)\n",
    "\n",
    "    return tokens "
   ]
  },
  {
   "cell_type": "code",
   "execution_count": 49,
   "metadata": {
    "collapsed": true
   },
   "outputs": [],
   "source": [
    "df['filtered_words'] = df['reviews_text']\n",
    "df['filtered_words'] = df['filtered_words'].apply(preprocessing)"
   ]
  },
  {
   "cell_type": "code",
   "execution_count": 50,
   "metadata": {},
   "outputs": [
    {
     "data": {
      "text/html": [
       "<div>\n",
       "<style>\n",
       "    .dataframe thead tr:only-child th {\n",
       "        text-align: right;\n",
       "    }\n",
       "\n",
       "    .dataframe thead th {\n",
       "        text-align: left;\n",
       "    }\n",
       "\n",
       "    .dataframe tbody tr th {\n",
       "        vertical-align: top;\n",
       "    }\n",
       "</style>\n",
       "<table border=\"1\" class=\"dataframe\">\n",
       "  <thead>\n",
       "    <tr style=\"text-align: right;\">\n",
       "      <th></th>\n",
       "      <th>reviews_text</th>\n",
       "      <th>filtered_words</th>\n",
       "    </tr>\n",
       "  </thead>\n",
       "  <tbody>\n",
       "    <tr>\n",
       "      <th>16</th>\n",
       "      <td>very comfortable room our son came and they had a couch that they pulled out into a queen size bed free wifi and bottled water this hotel was built back in the 20s and the decor is fabulous a very neat hotel</td>\n",
       "      <td>[comfortable, room, son, came, couch, pulled, queen, size, bed, free, wifi, bottled, water, hotel, built, back, 20s, decor, fabulous, neat, hotel]</td>\n",
       "    </tr>\n",
       "    <tr>\n",
       "      <th>17</th>\n",
       "      <td>stayed here for second time recently gorgeous lobby friendly staff good free shuttle service our room this time was disappointing king bed in too small space so that one side did not even have a lamp also the heatingcooling unit was right next to the bed and very noisy so we turned it off luckily it was not needed room more</td>\n",
       "      <td>[stayed, second, time, recently, gorgeous, lobby, friendly, staff, good, free, shuttle, service, room, time, disappointing, king, bed, small, space, one, side, even, lamp, also, heatingcooling, unit, right, next, bed, noisy, turned, luckily, needed, room]</td>\n",
       "    </tr>\n",
       "    <tr>\n",
       "      <th>18</th>\n",
       "      <td>my husband and i always try to stay at the hotel phillips when we are in kansas city it is our favorite hotel and we have stayed at many i feel at home there and the staff has always been exceptional although we are not particularly demanding guests over the years we have probably spent at least 20 nights there more</td>\n",
       "      <td>[husband, always, try, stay, hotel, phillips, kansas, city, favorite, hotel, stayed, many, feel, home, staff, always, exceptional, although, particularly, demanding, guests, years, probably, spent, least, nights]</td>\n",
       "    </tr>\n",
       "    <tr>\n",
       "      <th>19</th>\n",
       "      <td>just stayed one night but very happy nice comfortable top floor room staff could not have been more helpful great location right by the power light district be prepared to pay for valet parking price of this was offset though by free wine and cheese reception</td>\n",
       "      <td>[stayed, one, night, happy, nice, comfortable, top, floor, room, staff, could, helpful, great, location, right, power, light, district, prepared, pay, valet, parking, price, offset, though, free, wine, cheese, reception]</td>\n",
       "    </tr>\n",
       "  </tbody>\n",
       "</table>\n",
       "</div>"
      ],
      "text/plain": [
       "                                                                                                                                                                                                                                                                                                                             reviews_text  \\\n",
       "16  very comfortable room our son came and they had a couch that they pulled out into a queen size bed free wifi and bottled water this hotel was built back in the 20s and the decor is fabulous a very neat hotel                                                                                                                         \n",
       "17  stayed here for second time recently gorgeous lobby friendly staff good free shuttle service our room this time was disappointing king bed in too small space so that one side did not even have a lamp also the heatingcooling unit was right next to the bed and very noisy so we turned it off luckily it was not needed room more   \n",
       "18  my husband and i always try to stay at the hotel phillips when we are in kansas city it is our favorite hotel and we have stayed at many i feel at home there and the staff has always been exceptional although we are not particularly demanding guests over the years we have probably spent at least 20 nights there more           \n",
       "19  just stayed one night but very happy nice comfortable top floor room staff could not have been more helpful great location right by the power light district be prepared to pay for valet parking price of this was offset though by free wine and cheese reception                                                                     \n",
       "\n",
       "                                                                                                                                                                                                                                                     filtered_words  \n",
       "16  [comfortable, room, son, came, couch, pulled, queen, size, bed, free, wifi, bottled, water, hotel, built, back, 20s, decor, fabulous, neat, hotel]                                                                                                               \n",
       "17  [stayed, second, time, recently, gorgeous, lobby, friendly, staff, good, free, shuttle, service, room, time, disappointing, king, bed, small, space, one, side, even, lamp, also, heatingcooling, unit, right, next, bed, noisy, turned, luckily, needed, room]  \n",
       "18  [husband, always, try, stay, hotel, phillips, kansas, city, favorite, hotel, stayed, many, feel, home, staff, always, exceptional, although, particularly, demanding, guests, years, probably, spent, least, nights]                                             \n",
       "19  [stayed, one, night, happy, nice, comfortable, top, floor, room, staff, could, helpful, great, location, right, power, light, district, prepared, pay, valet, parking, price, offset, though, free, wine, cheese, reception]                                     "
      ]
     },
     "execution_count": 50,
     "metadata": {},
     "output_type": "execute_result"
    }
   ],
   "source": [
    "df[['reviews_text','filtered_words']][16:20]"
   ]
  },
  {
   "cell_type": "code",
   "execution_count": 51,
   "metadata": {
    "collapsed": true
   },
   "outputs": [],
   "source": [
    "# We can clean this up and combine the above with Mel's.  Just wanted to get something going."
   ]
  },
  {
   "cell_type": "markdown",
   "metadata": {},
   "source": [
    "## Function to count words"
   ]
  },
  {
   "cell_type": "code",
   "execution_count": 52,
   "metadata": {
    "collapsed": true
   },
   "outputs": [],
   "source": [
    "import collections\n",
    "def count_words(input):\n",
    "    total_count = collections.Counter()\n",
    "    for row in input:\n",
    "        for word in row:\n",
    "            total_count[word] += 1\n",
    "    return total_count"
   ]
  },
  {
   "cell_type": "code",
   "execution_count": 53,
   "metadata": {},
   "outputs": [
    {
     "data": {
      "text/plain": [
       "[('hotel', 6621),\n",
       " ('room', 6518),\n",
       " ('staff', 3988),\n",
       " ('stay', 3728),\n",
       " ('good', 3478),\n",
       " ('great', 3473),\n",
       " ('clean', 3315),\n",
       " ('breakfast', 2893),\n",
       " ('nice', 2781),\n",
       " ('rooms', 2277),\n",
       " ('friendly', 2091),\n",
       " ('location', 1990),\n",
       " ('would', 1968),\n",
       " ('stayed', 1761),\n",
       " ('comfortable', 1691),\n",
       " ('one', 1535),\n",
       " ('time', 1416),\n",
       " ('place', 1382),\n",
       " ('night', 1363),\n",
       " ('service', 1359),\n",
       " ('area', 1357),\n",
       " ('helpful', 1306),\n",
       " ('desk', 1237),\n",
       " ('well', 1222),\n",
       " ('bad', 1202),\n",
       " ('front', 1169),\n",
       " ('bed', 1166),\n",
       " ('get', 1125),\n",
       " ('pool', 1112),\n",
       " ('like', 1084)]"
      ]
     },
     "execution_count": 53,
     "metadata": {},
     "output_type": "execute_result"
    }
   ],
   "source": [
    "single_words_neg = df[(df.country == 'US')][['filtered_words']].apply(count_words)['filtered_words'].most_common(30)\n",
    "single_words_neg"
   ]
  },
  {
   "cell_type": "markdown",
   "metadata": {},
   "source": [
    "## Function to make word clouds"
   ]
  },
  {
   "cell_type": "code",
   "execution_count": 54,
   "metadata": {
    "collapsed": true
   },
   "outputs": [],
   "source": [
    "def mywordcloud(data, title = None):\n",
    "    wordcloud = WordCloud(\n",
    "        stopwords=stop_words,\n",
    "        background_color='white',\n",
    "        max_words=80,\n",
    "        max_font_size=40,\n",
    "        scale=3,\n",
    "        random_state=1\n",
    "    ).generate(str(data))\n",
    "    \n",
    "    fig = plt.figure(1, figsize=(8,8))\n",
    "    plt.axis('off')\n",
    "    if title:\n",
    "        fig.suptitle(title, fontsize=20)\n",
    "        fig.subplots_adjust(top=2.3)\n",
    "    \n",
    "    plt.imshow(wordcloud)\n",
    "    plt.show()"
   ]
  }
 ],
 "metadata": {
  "kernelspec": {
   "display_name": "Python 3",
   "language": "python",
   "name": "python3"
  },
  "language_info": {
   "codemirror_mode": {
    "name": "ipython",
    "version": 3
   },
   "file_extension": ".py",
   "mimetype": "text/x-python",
   "name": "python",
   "nbconvert_exporter": "python",
   "pygments_lexer": "ipython3",
   "version": "3.7.1"
  },
  "toc": {
   "base_numbering": 1,
   "nav_menu": {},
   "number_sections": true,
   "sideBar": true,
   "skip_h1_title": true,
   "title_cell": "Table of Contents",
   "title_sidebar": "Contents",
   "toc_cell": false,
   "toc_position": {},
   "toc_section_display": true,
   "toc_window_display": true
  }
 },
 "nbformat": 4,
 "nbformat_minor": 2
}
